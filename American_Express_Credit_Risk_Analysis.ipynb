{
 "cells": [
  {
   "cell_type": "markdown",
   "id": "cf234a83",
   "metadata": {},
   "source": [
    "# American Express - Credit Risk Analysis 🏦"
   ]
  },
  {
   "cell_type": "code",
   "execution_count": null,
   "id": "3fa06ba3",
   "metadata": {},
   "outputs": [],
   "source": [
    "import pandas as pd\n",
    "import numpy as np\n",
    "import matplotlib.pyplot as plt\n",
    "import seaborn as sns\n",
    "\n",
    "from sklearn.model_selection import train_test_split\n",
    "from sklearn.preprocessing import StandardScaler\n",
    "from sklearn.linear_model import LogisticRegression\n",
    "from sklearn.ensemble import RandomForestClassifier\n",
    "from xgboost import XGBClassifier\n",
    "from sklearn.metrics import classification_report, confusion_matrix, roc_auc_score"
   ]
  },
  {
   "cell_type": "markdown",
   "id": "78fd43e8",
   "metadata": {},
   "source": [
    "## Load Dataset"
   ]
  },
  {
   "cell_type": "code",
   "execution_count": null,
   "id": "83fe0e24",
   "metadata": {},
   "outputs": [],
   "source": [
    "df = pd.read_csv('credit_risk_dataset.csv')\n",
    "df.head()"
   ]
  },
  {
   "cell_type": "markdown",
   "id": "871d2ff2",
   "metadata": {},
   "source": [
    "## EDA - Class Distribution & Correlation"
   ]
  },
  {
   "cell_type": "code",
   "execution_count": null,
   "id": "6bc35aab",
   "metadata": {},
   "outputs": [],
   "source": [
    "sns.countplot(x='default', data=df)\n",
    "plt.title('Default Distribution')\n",
    "plt.show()\n",
    "\n",
    "sns.heatmap(df.corr(), annot=True)\n",
    "plt.title('Feature Correlation')\n",
    "plt.show()"
   ]
  },
  {
   "cell_type": "markdown",
   "id": "7c9d4291",
   "metadata": {},
   "source": [
    "## Train-Test Split & Scaling"
   ]
  },
  {
   "cell_type": "code",
   "execution_count": null,
   "id": "3e3b6fe0",
   "metadata": {},
   "outputs": [],
   "source": [
    "X = df.drop('default', axis=1)\n",
    "y = df['default']\n",
    "\n",
    "X_train, X_test, y_train, y_test = train_test_split(X, y, test_size=0.2, random_state=42)\n",
    "\n",
    "scaler = StandardScaler()\n",
    "X_train_scaled = scaler.fit_transform(X_train)\n",
    "X_test_scaled = scaler.transform(X_test)"
   ]
  },
  {
   "cell_type": "markdown",
   "id": "c297b624",
   "metadata": {},
   "source": [
    "## Model 1: Logistic Regression"
   ]
  },
  {
   "cell_type": "code",
   "execution_count": null,
   "id": "ff9da0d8",
   "metadata": {},
   "outputs": [],
   "source": [
    "lr = LogisticRegression()\n",
    "lr.fit(X_train_scaled, y_train)\n",
    "y_pred_lr = lr.predict(X_test_scaled)\n",
    "\n",
    "print('Logistic Regression')\n",
    "print(confusion_matrix(y_test, y_pred_lr))\n",
    "print(classification_report(y_test, y_pred_lr))\n",
    "print('ROC AUC:', roc_auc_score(y_test, lr.predict_proba(X_test_scaled)[:,1]))"
   ]
  },
  {
   "cell_type": "markdown",
   "id": "a4dc8431",
   "metadata": {},
   "source": [
    "## Model 2: Random Forest"
   ]
  },
  {
   "cell_type": "code",
   "execution_count": null,
   "id": "492d005f",
   "metadata": {},
   "outputs": [],
   "source": [
    "rf = RandomForestClassifier()\n",
    "rf.fit(X_train, y_train)\n",
    "y_pred_rf = rf.predict(X_test)\n",
    "\n",
    "print('Random Forest')\n",
    "print(confusion_matrix(y_test, y_pred_rf))\n",
    "print(classification_report(y_test, y_pred_rf))\n",
    "print('ROC AUC:', roc_auc_score(y_test, rf.predict_proba(X_test)[:,1]))"
   ]
  },
  {
   "cell_type": "markdown",
   "id": "7ed4d690",
   "metadata": {},
   "source": [
    "## Model 3: XGBoost Classifier"
   ]
  },
  {
   "cell_type": "code",
   "execution_count": null,
   "id": "8895407b",
   "metadata": {},
   "outputs": [],
   "source": [
    "xgb = XGBClassifier(use_label_encoder=False, eval_metric='logloss')\n",
    "xgb.fit(X_train, y_train)\n",
    "y_pred_xgb = xgb.predict(X_test)\n",
    "\n",
    "print('XGBoost')\n",
    "print(confusion_matrix(y_test, y_pred_xgb))\n",
    "print(classification_report(y_test, y_pred_xgb))\n",
    "print('ROC AUC:', roc_auc_score(y_test, xgb.predict_proba(X_test)[:,1]))"
   ]
  },
  {
   "cell_type": "markdown",
   "id": "4703bb10",
   "metadata": {},
   "source": [
    "## 📌 Summary\n",
    "- Logistic Regression works well for linear patterns.\n",
    "- Random Forest gives solid baseline performance.\n",
    "- XGBoost outperforms others on most metrics.\n",
    "- Useful for real-world credit default classification scenarios."
   ]
  }
 ],
 "metadata": {},
 "nbformat": 4,
 "nbformat_minor": 5
}
